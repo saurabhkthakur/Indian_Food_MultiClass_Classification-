{
 "cells": [
  {
   "cell_type": "code",
   "execution_count": 1,
   "metadata": {},
   "outputs": [],
   "source": [
    "\n",
    "from selenium import webdriver\n",
    "import selenium\n",
    "from io import StringIO\n",
    "# This is the path I use\n",
    "# DRIVER_PATH = '.../Desktop/Scraping/chromedriver 2'\n",
    "# Put the path for your ChromeDriver here\n",
    "DRIVER_PATH = r\"F:\\sa\\chromedriver.exe\"\n"
   ]
  },
  {
   "cell_type": "code",
   "execution_count": 83,
   "metadata": {},
   "outputs": [],
   "source": [
    "wd = webdriver.Chrome(executable_path=DRIVER_PATH)\n",
    "wd.get('https://google.com')"
   ]
  },
  {
   "cell_type": "code",
   "execution_count": 84,
   "metadata": {},
   "outputs": [],
   "source": [
    "search_box = wd.find_element_by_css_selector('input.gLFyf')\n",
    "search_box.send_keys('Dhokla images')"
   ]
  },
  {
   "cell_type": "code",
   "execution_count": 85,
   "metadata": {},
   "outputs": [],
   "source": [
    "wd.quit()"
   ]
  },
  {
   "cell_type": "code",
   "execution_count": 86,
   "metadata": {},
   "outputs": [],
   "source": []
  },
  {
   "cell_type": "code",
   "execution_count": 2,
   "metadata": {},
   "outputs": [],
   "source": [
    "def fetch_image_urls(query:str, max_links_to_fetch:int, wd:webdriver, sleep_between_interactions:int=1):\n",
    "    def scroll_to_end(wd):\n",
    "        wd.execute_script(\"window.scrollTo(0, document.body.scrollHeight);\")\n",
    "        time.sleep(sleep_between_interactions)    \n",
    "    \n",
    "    # build the google query\n",
    "    search_url = \"https://www.google.com/search?safe=off&site=&tbm=isch&source=hp&q={q}&oq={q}&gs_l=img\"\n",
    "\n",
    "    # load the page\n",
    "    wd.get(search_url.format(q=query))\n",
    "\n",
    "    image_urls = set()\n",
    "    image_count = 0\n",
    "    results_start = 0\n",
    "    while image_count < max_links_to_fetch:\n",
    "        scroll_to_end(wd)\n",
    "\n",
    "        # get all image thumbnail results\n",
    "        thumbnail_results = wd.find_elements_by_css_selector(\"img.Q4LuWd\")\n",
    "        number_results = len(thumbnail_results)\n",
    "        \n",
    "        print(f\"Found: {number_results} search results. Extracting links from {results_start}:{number_results}\")\n",
    "        \n",
    "        for img in thumbnail_results[results_start:number_results]:\n",
    "            # try to click every thumbnail such that we can get the real image behind it\n",
    "            try:\n",
    "                img.click()\n",
    "                time.sleep(sleep_between_interactions)\n",
    "            except Exception:\n",
    "                continue\n",
    "\n",
    "            # extract image urls    \n",
    "            actual_images = wd.find_elements_by_css_selector('img.n3VNCb')\n",
    "            for actual_image in actual_images:\n",
    "                if actual_image.get_attribute('src') and 'http' in actual_image.get_attribute('src'):\n",
    "                    image_urls.add(actual_image.get_attribute('src'))\n",
    "\n",
    "            image_count = len(image_urls)\n",
    "\n",
    "            if len(image_urls) >= max_links_to_fetch:\n",
    "                print(f\"Found: {len(image_urls)} image links, done!\")\n",
    "                break\n",
    "        else:\n",
    "            print(\"Found:\", len(image_urls), \"image links, looking for more ...\")\n",
    "            time.sleep(30)\n",
    "            return\n",
    "            load_more_button = wd.find_element_by_css_selector(\".mye4qd\")\n",
    "            if load_more_button:\n",
    "                wd.execute_script(\"document.querySelector('.mye4qd').click();\")\n",
    "\n",
    "        # move the result startpoint further down\n",
    "        results_start = len(thumbnail_results)\n",
    "\n",
    "    return image_urls"
   ]
  },
  {
   "cell_type": "code",
   "execution_count": 3,
   "metadata": {},
   "outputs": [],
   "source": [
    "def persist_image(folder_path:str,url:str):\n",
    "    try:\n",
    "        image_content = requests.get(url).content\n",
    "\n",
    "    except Exception as e:\n",
    "        print(f\"ERROR - Could not download {url} - {e}\")\n",
    "\n",
    "    try:\n",
    "        image_file = io.BytesIO(image_content)\n",
    "        image = Image.open(image_file).convert('RGB')\n",
    "        file_path = os.path.join(folder_path,hashlib.sha1(image_content).hexdigest()[:10] + '.jpg')\n",
    "        with open(file_path, 'wb') as f:\n",
    "            image.save(f, \"JPEG\", quality=85)\n",
    "        print(f\"SUCCESS - saved {url} - as {file_path}\")\n",
    "    except Exception as e:\n",
    "        print(f\"ERROR - Could not save {url} - {e}\")"
   ]
  },
  {
   "cell_type": "code",
   "execution_count": 5,
   "metadata": {},
   "outputs": [],
   "source": [
    "def search_and_download(search_term:str,driver_path:str,target_path='./images',number_images=130):\n",
    "    target_folder = os.path.join(target_path,'_'.join(search_term.lower().split(' ')))\n",
    "\n",
    "    if not os.path.exists(target_folder):\n",
    "        os.makedirs(target_folder)\n",
    "\n",
    "    with webdriver.Chrome(executable_path=driver_path) as wd:\n",
    "        res = fetch_image_urls(search_term, number_images, wd=wd, sleep_between_interactions=0.5)\n",
    "        \n",
    "    for elem in res:\n",
    "        persist_image(target_folder,elem)"
   ]
  },
  {
   "cell_type": "code",
   "execution_count": 20,
   "metadata": {},
   "outputs": [
    {
     "name": "stdout",
     "output_type": "stream",
     "text": [
      "Found: 100 search results. Extracting links from 0:100\n",
      "Found: 130 image links, done!\n",
      "SUCCESS - saved https://encrypted-tbn0.gstatic.com/images?q=tbn%3AANd9GcTcx53XDwuOUAS8iGeQv2gsZBiXSrhdjTjrG8QrZ-2B6p3Au3Od&usqp=CAU - as ./images\\shrikhand\\83d83da467.jpg\n",
      "SUCCESS - saved https://encrypted-tbn0.gstatic.com/images?q=tbn%3AANd9GcSSbvJ3ZBg2nDV_42Lz-R-lf0vkNjj8PitqUoPLOD9rNzCypX6T&usqp=CAU - as ./images\\shrikhand\\9a23866745.jpg\n",
      "SUCCESS - saved https://encrypted-tbn0.gstatic.com/images?q=tbn%3AANd9GcR3S6r7hYpCzhV3f6sQCTlXCK6qosESPoSC9vy0XdZvVrwURBgh&usqp=CAU - as ./images\\shrikhand\\8924a57a7b.jpg\n",
      "SUCCESS - saved https://encrypted-tbn0.gstatic.com/images?q=tbn%3AANd9GcTwon4ZlNAjmr-BIWSjUCU9NkO_KfFyD4BsfG3UZrt7Af8ghue8&usqp=CAU - as ./images\\shrikhand\\2fa281c4be.jpg\n",
      "SUCCESS - saved https://encrypted-tbn0.gstatic.com/images?q=tbn%3AANd9GcT2meQ5fxAE_GP7VNTDURzKJdl9H5RrIQUzg_zvpEWpSIP3chVd&usqp=CAU - as ./images\\shrikhand\\36b349302e.jpg\n",
      "SUCCESS - saved https://encrypted-tbn0.gstatic.com/images?q=tbn%3AANd9GcSxSj5D-GXEs4YNfPkzOzbSWfv7GAG5eizGqtAIzUuRxnv4w7nh&usqp=CAU - as ./images\\shrikhand\\2773dc09cb.jpg\n",
      "SUCCESS - saved https://i2.wp.com/www.vegrecipesofindia.com/wp-content/uploads/2015/04/shrikhand-recipe.jpg - as ./images\\shrikhand\\af369731c5.jpg\n",
      "SUCCESS - saved https://encrypted-tbn0.gstatic.com/images?q=tbn%3AANd9GcQql7hy0D9Lq4CXpmozTLoHH-H7uiRo20p-GtcnV1onfgyswxvH&usqp=CAU - as ./images\\shrikhand\\b17bb1c1c5.jpg\n",
      "SUCCESS - saved https://encrypted-tbn0.gstatic.com/images?q=tbn%3AANd9GcSBhZDlzloIk_a9t0kFNIjc8vi-B36aGCAbXrx4qZxCcMFiL0Rw&usqp=CAU - as ./images\\shrikhand\\e4fea10151.jpg\n",
      "SUCCESS - saved https://encrypted-tbn0.gstatic.com/images?q=tbn%3AANd9GcThVjh7d7GNSAJjRekS9NgFItRWQubWD9rWmEHKhV3DFFByVNut&usqp=CAU - as ./images\\shrikhand\\717fba2ca3.jpg\n",
      "SUCCESS - saved https://encrypted-tbn0.gstatic.com/images?q=tbn%3AANd9GcS27kLaFzSdOlw8bbh0bk4DEltrRuMPn4lej1hwP5l_xPQev45S&usqp=CAU - as ./images\\shrikhand\\ec1dcd3730.jpg\n",
      "SUCCESS - saved https://www.tarladalal.com/members/9306/big/big_shrikhand,_kesar_elaichi_shrikhand-14098.jpg?size=696X905 - as ./images\\shrikhand\\90b207ec69.jpg\n",
      "SUCCESS - saved https://encrypted-tbn0.gstatic.com/images?q=tbn%3AANd9GcQUdCbcn6EY1W5x5lc-Cjm2unCCj-_vDfFlUFkb9WcIUycIyTA9&usqp=CAU - as ./images\\shrikhand\\f7896d4ad1.jpg\n",
      "SUCCESS - saved https://www.milkmaid.in/sites/site.prod1.milkmaid.in/files/styles/recipe_banner/public/2019-03/Kesar-Shrikhand.jpg?itok=cLsbxfh0 - as ./images\\shrikhand\\2922c48e04.jpg\n",
      "SUCCESS - saved https://encrypted-tbn0.gstatic.com/images?q=tbn%3AANd9GcS39D8Gvox55iLml1qjkUq1q3U4ukQZiN-Gv6hPPc4Eu8ZkI7L6&usqp=CAU - as ./images\\shrikhand\\947c046eff.jpg\n",
      "SUCCESS - saved https://encrypted-tbn0.gstatic.com/images?q=tbn%3AANd9GcQihSoaKz_ccgeilnKXOh4eef4LdeQiW_j7e0JB9NOrr0PiMY1J&usqp=CAU - as ./images\\shrikhand\\ec590ed193.jpg\n",
      "SUCCESS - saved https://encrypted-tbn0.gstatic.com/images?q=tbn%3AANd9GcTUP2JDAkHLVzS4aC4_QF98FAXbjRTKHnDZoxY0Bw0g8Mm9d34b&usqp=CAU - as ./images\\shrikhand\\f5910140be.jpg\n",
      "SUCCESS - saved https://encrypted-tbn0.gstatic.com/images?q=tbn%3AANd9GcTuwEZkop89p83NmnvfhWfKLxTou5FGkKa6KybWeEJa8LPXQb3d&usqp=CAU - as ./images\\shrikhand\\819d3f8829.jpg\n",
      "ERROR - Could not save https://foodofinterest.com/wp-content/uploads/2016/05/MangoShrikhand-1200x806.jpg - cannot identify image file <_io.BytesIO object at 0x0000022FD963E288>\n",
      "SUCCESS - saved https://i.pinimg.com/originals/19/5b/6b/195b6bc8dbd7de2972b0ebcb794f58c7.jpg - as ./images\\shrikhand\\33f70ad0d1.jpg\n",
      "SUCCESS - saved https://www.archanaskitchen.com/images/archanaskitchen/Indian_Sweets_Mithai/Amrakhand_Recipe_Mango_Shrikhand__A_Mango_Yogurt_Pudding-1_400.jpg - as ./images\\shrikhand\\16939dbdc2.jpg\n",
      "SUCCESS - saved https://i.ytimg.com/vi/n0fzwKqH5NA/hqdefault.jpg - as ./images\\shrikhand\\597f6689ba.jpg\n",
      "SUCCESS - saved https://encrypted-tbn0.gstatic.com/images?q=tbn%3AANd9GcTviP1ks139rDdHduM-ZKjpX7JYftyt6Qtfq5Q4B8Tyl4SdbFou&usqp=CAU - as ./images\\shrikhand\\28e8c2c68e.jpg\n",
      "SUCCESS - saved https://encrypted-tbn0.gstatic.com/images?q=tbn%3AANd9GcTXK_IN295cLoh-VBe-4tGGpCYjFb7_8Af0qs-nOzZkKSkN6mxj&usqp=CAU - as ./images\\shrikhand\\00c0ac3b8c.jpg\n",
      "SUCCESS - saved https://encrypted-tbn0.gstatic.com/images?q=tbn%3AANd9GcQPn-qCxJBwxK61XimjEAqAWSv9ivKppIpc8vYIR9e5kclUdRT9&usqp=CAU - as ./images\\shrikhand\\aba7df3492.jpg\n",
      "SUCCESS - saved https://www.tarladalal.com/members/9306/procstepimgs/shrikhand_dsc0798-(1)-1-185732.jpg - as ./images\\shrikhand\\b293d561bd.jpg\n",
      "SUCCESS - saved https://i.ndtvimg.com/i/2018-03/shirkhand-dessert_620x350_71522049235.jpg - as ./images\\shrikhand\\f793cc328b.jpg\n",
      "SUCCESS - saved https://i1.wp.com/www.aayisrecipes.com/wp-content/uploads/2007/11/shrikhand.jpg?fit=455%2C303&ssl=1&w=640 - as ./images\\shrikhand\\fccef8b6a4.jpg\n",
      "SUCCESS - saved https://i.ytimg.com/vi/2E-JGuRE0Lk/maxresdefault.jpg - as ./images\\shrikhand\\ec74ff62ad.jpg\n",
      "SUCCESS - saved https://i2.wp.com/healthyvegrecipes.com/wp-content/uploads/2014/03/IMG_98261.jpg - as ./images\\shrikhand\\a651ebdf0a.jpg\n",
      "SUCCESS - saved https://cdn.cdnparenting.com/articles/2018/11/03155609/shrikhand-sweetened-yoghurt-recipe_1079537984.jpg - as ./images\\shrikhand\\0b5499899b.jpg\n",
      "SUCCESS - saved https://encrypted-tbn0.gstatic.com/images?q=tbn%3AANd9GcR-GAJ0leGQ6sCAoeHKL7gNk2jokpY2F2o55l8uLGpKZqSOLXyk&usqp=CAU - as ./images\\shrikhand\\35825c8582.jpg\n",
      "SUCCESS - saved https://encrypted-tbn0.gstatic.com/images?q=tbn%3AANd9GcS9WUFp17N2eG5ZiT12J8XpSiDP2RcPtWSg2KBNEM6kXWOe6LbY&usqp=CAU - as ./images\\shrikhand\\32aeab34f0.jpg\n",
      "SUCCESS - saved https://encrypted-tbn0.gstatic.com/images?q=tbn%3AANd9GcQKVTshC0iMe9wu-BTi1gPL5kb5pv5v_1yT4kEALX_4tKD2OCIM&usqp=CAU - as ./images\\shrikhand\\f8fc52efa6.jpg\n",
      "SUCCESS - saved https://encrypted-tbn0.gstatic.com/images?q=tbn%3AANd9GcS_AWW3KQDsfTNHbKs2EpeDpRx28RUeP5C3GzlNZuR7DpnqxxIW&usqp=CAU - as ./images\\shrikhand\\e77e164d54.jpg\n",
      "SUCCESS - saved https://encrypted-tbn0.gstatic.com/images?q=tbn%3AANd9GcSBsBedyeMvsBuJzG7i-_ePMaX9v86SOFqZilA-0cuRjHePrS1r&usqp=CAU - as ./images\\shrikhand\\65ed229a6c.jpg\n",
      "SUCCESS - saved https://i.pinimg.com/originals/12/84/78/1284782170260b2b1e051f297ae0de29.jpg - as ./images\\shrikhand\\2c5dcb89f5.jpg\n",
      "SUCCESS - saved https://www.tarladalal.com/members/9306/procstepimgs/quick-shrikhand-17-189072.jpg - as ./images\\shrikhand\\a68ed23859.jpg\n",
      "SUCCESS - saved https://encrypted-tbn0.gstatic.com/images?q=tbn%3AANd9GcTB4xtYO1L1Prjd9FSjwqlS9AWDMWzHV6hbE6j0L5QvtYAuW9zS&usqp=CAU - as ./images\\shrikhand\\3b1ae8ca64.jpg\n",
      "SUCCESS - saved https://encrypted-tbn0.gstatic.com/images?q=tbn%3AANd9GcQcCei2D7PHogEFVhoBENQaK5KRWnVq3r33NOUhm-bnv1KimJ4Z&usqp=CAU - as ./images\\shrikhand\\babef1119e.jpg\n",
      "SUCCESS - saved https://i2.wp.com/www.rakshaskitchen.com/wp-content/uploads/2019/05/SpoiltMilkRecipe_mangoShrikhand_3427.jpg?fit=750%2C1125&ssl=1 - as ./images\\shrikhand\\a760ad0549.jpg\n",
      "SUCCESS - saved https://encrypted-tbn0.gstatic.com/images?q=tbn%3AANd9GcTPEXzAKY1PzgX5DQklrud5qaa4dXvTISlq9rS-uBh9FIhcWwPa&usqp=CAU - as ./images\\shrikhand\\c3e577a7c9.jpg\n",
      "SUCCESS - saved https://c.ndtvimg.com/2018-09/e6kifm1g_aam-shrikhand_625x300_10_September_18.jpg - as ./images\\shrikhand\\42e09a6acd.jpg\n",
      "SUCCESS - saved https://encrypted-tbn0.gstatic.com/images?q=tbn%3AANd9GcQaA4_H6LbRsTT9Hk1mkSlHX0DS7SmnpBxpTrO_ymJgy6tpSx9v&usqp=CAU - as ./images\\shrikhand\\f48498ea8d.jpg\n",
      "SUCCESS - saved https://encrypted-tbn0.gstatic.com/images?q=tbn%3AANd9GcS1Y8A0D11rZ06ghqAebDftEjzpU9djgp6sJRZTCX1F0PUw79sV&usqp=CAU - as ./images\\shrikhand\\60c3bd8f1c.jpg\n",
      "SUCCESS - saved https://encrypted-tbn0.gstatic.com/images?q=tbn%3AANd9GcSoCxnu-q9hFOQYHdsA2Q8bne9N7t5Djo5wQGt5VzEXSBRBIIDV&usqp=CAU - as ./images\\shrikhand\\25cb856e27.jpg\n",
      "SUCCESS - saved https://encrypted-tbn0.gstatic.com/images?q=tbn%3AANd9GcQ0pfz9iBxUva-LtB88OFZfGk5og4LtVFHIOLCs3d4gLyYn2qdE&usqp=CAU - as ./images\\shrikhand\\aa37913599.jpg\n",
      "SUCCESS - saved https://1.bp.blogspot.com/-04rvTgkE9o8/XpnGM1Kxq2I/AAAAAAAAXA4/L8Bqs3JuAqEIohFjAVXKS9bAwwuOgzqEwCLcBGAsYHQ/s1600/Shrikhand-02.jpg - as ./images\\shrikhand\\b054bd1c4d.jpg\n",
      "SUCCESS - saved https://encrypted-tbn0.gstatic.com/images?q=tbn%3AANd9GcQLpbCbFjPvJmWjz5FzLBW0iwUENbyolP0j-XOX0VY-TcGbShJS&usqp=CAU - as ./images\\shrikhand\\53ce25c173.jpg\n",
      "SUCCESS - saved https://encrypted-tbn0.gstatic.com/images?q=tbn%3AANd9GcTKHcLmSlpjb3YB02TDOKlinvPj3CIlDGDmGXn7VwN3fsRSGYEM&usqp=CAU - as ./images\\shrikhand\\a6b4379cff.jpg\n"
     ]
    },
    {
     "name": "stdout",
     "output_type": "stream",
     "text": [
      "SUCCESS - saved https://mildlyindian.com/wp-content/uploads/2019/01/Fruit-Shrikhand.jpg - as ./images\\shrikhand\\9ade54473a.jpg\n",
      "SUCCESS - saved https://encrypted-tbn0.gstatic.com/images?q=tbn%3AANd9GcQq8QAksBcb9-qCVDeyg6TMLCRMlUygRcvztlnhfFRSpv75a-9w&usqp=CAU - as ./images\\shrikhand\\8d5096a775.jpg\n",
      "SUCCESS - saved https://encrypted-tbn0.gstatic.com/images?q=tbn%3AANd9GcQuoRE5H2IeOY06d_Ia-AtRYaCgno4D18A0T17uKeNAUtpWgUhX&usqp=CAU - as ./images\\shrikhand\\13112f5fe8.jpg\n",
      "SUCCESS - saved https://encrypted-tbn0.gstatic.com/images?q=tbn%3AANd9GcSAB2FYnPLxbE5ns7VZKE09de3IBEocuWqRScvhv2c3yr2OD9iq&usqp=CAU - as ./images\\shrikhand\\cb1d9fd60f.jpg\n",
      "SUCCESS - saved https://encrypted-tbn0.gstatic.com/images?q=tbn%3AANd9GcSBxAc6TemoTRIDUgd2V3CEU40VwOTmPr2sJxRMrXj8xpxhoArv&usqp=CAU - as ./images\\shrikhand\\dc4c5bf854.jpg\n",
      "SUCCESS - saved https://encrypted-tbn0.gstatic.com/images?q=tbn%3AANd9GcQf8VU05zORUTclM-vVwQiopKMDLu4V20a28V1lmi3GfW4lkvNN&usqp=CAU - as ./images\\shrikhand\\813022404f.jpg\n",
      "SUCCESS - saved https://encrypted-tbn0.gstatic.com/images?q=tbn%3AANd9GcQsAggNwBZaii5kBaNzne3ynGxZFKMYzFMYBwJVCIBWA_WLjwz8&usqp=CAU - as ./images\\shrikhand\\269958716e.jpg\n",
      "SUCCESS - saved https://images.herzindagi.info/image/2019/Jun/shrikhand-recipe-main.jpg - as ./images\\shrikhand\\a554c8c886.jpg\n",
      "SUCCESS - saved https://encrypted-tbn0.gstatic.com/images?q=tbn%3AANd9GcRcqU3h95h_QZPg-1JuG8P0SNb1ELGXP74BTlFKI5JwEuAwPVKt&usqp=CAU - as ./images\\shrikhand\\4669a0ff80.jpg\n",
      "SUCCESS - saved https://encrypted-tbn0.gstatic.com/images?q=tbn%3AANd9GcTqBOgelZ6neucN8ttJb_lz2nQvUvvRM4TQgv6tfay7zg-1oMI8&usqp=CAU - as ./images\\shrikhand\\ab032d3488.jpg\n",
      "SUCCESS - saved https://i2.wp.com/www.playfulcooking.com/wp-content/uploads/2019/06/mango-shrikhand-06.jpg?resize=720%2C720&ssl=1 - as ./images\\shrikhand\\234326b4f7.jpg\n",
      "SUCCESS - saved https://i.ytimg.com/vi/X-B9szichRk/maxresdefault.jpg - as ./images\\shrikhand\\06e5bca170.jpg\n",
      "SUCCESS - saved https://encrypted-tbn0.gstatic.com/images?q=tbn%3AANd9GcQtXF10ImDgmdZYVQuW5Pdy0A1-epnPMtbojar13LMA571tXpZA&usqp=CAU - as ./images\\shrikhand\\2ed58a1f6e.jpg\n",
      "SUCCESS - saved https://i.pinimg.com/originals/e6/bb/4f/e6bb4f4044da393dcb9b9b3ff7bdbbc1.jpg - as ./images\\shrikhand\\579b6d1288.jpg\n",
      "SUCCESS - saved https://encrypted-tbn0.gstatic.com/images?q=tbn%3AANd9GcTEjq3iFd-CDkLc-ZN8EM61kQiqVjSILrqhg59hXv4id6Lnlyrh&usqp=CAU - as ./images\\shrikhand\\5e0186349a.jpg\n",
      "SUCCESS - saved https://cookwithrenu.com/wp-content/uploads/2019/06/Shrikhand-_-Kesar-Elaichi-Shrikhand_1.jpg - as ./images\\shrikhand\\ef1c792e57.jpg\n",
      "SUCCESS - saved https://i1.wp.com/myculinarysaga.com/wp-content/uploads/2019/08/Shrikhand-new-pic.jpg?resize=1200%2C1600&ssl=1 - as ./images\\shrikhand\\67dbb1bb05.jpg\n",
      "SUCCESS - saved https://encrypted-tbn0.gstatic.com/images?q=tbn%3AANd9GcTkVclNlwkFNlj_dyXIuGbtXkFuHPVAcqd9U1Krlo_m_nH6t0E1&usqp=CAU - as ./images\\shrikhand\\aa932fb66f.jpg\n",
      "SUCCESS - saved https://encrypted-tbn0.gstatic.com/images?q=tbn%3AANd9GcTY967mlrzftVPAylKzxI_05R9RUb7nUsBatPewCn7KGAwLI7F2&usqp=CAU - as ./images\\shrikhand\\5f08fa81eb.jpg\n",
      "SUCCESS - saved https://i.ndtvimg.com/i/2018-05/shrikhand_620x350_61525777001.jpeg - as ./images\\shrikhand\\c9786bde8f.jpg\n",
      "SUCCESS - saved https://www.mygingergarlickitchen.com/wp-content/uploads/2018/10/strawberry-shrikhand-recipe-anupama-paliwal-my-ginger-garlic-kitchen-4.jpg - as ./images\\shrikhand\\8436f69466.jpg\n",
      "SUCCESS - saved https://encrypted-tbn0.gstatic.com/images?q=tbn%3AANd9GcQ4Voruw1duDALOSoJrNcmqCXtIJuXivX8sz7i4TbJvqrn6lI1p&usqp=CAU - as ./images\\shrikhand\\eacf81b576.jpg\n",
      "SUCCESS - saved https://encrypted-tbn0.gstatic.com/images?q=tbn%3AANd9GcS-2wRnP_0OqYiykgnwyhxSuM0TcMEET30b0c311z83W0eomTSx&usqp=CAU - as ./images\\shrikhand\\663f127a7a.jpg\n",
      "SUCCESS - saved https://5.imimg.com/data5/YW/SW/MY-40174052/white-elaichi-shrikhand-500x500.jpg - as ./images\\shrikhand\\51884dad06.jpg\n",
      "SUCCESS - saved https://encrypted-tbn0.gstatic.com/images?q=tbn%3AANd9GcQAyowD9RVSmeYatDzQ7Qq52cVuW_Ua5HhDNlaTUtZ5Soy-kkRZ&usqp=CAU - as ./images\\shrikhand\\82d3eeec80.jpg\n",
      "SUCCESS - saved https://files2.hungryforever.com/wp-content/uploads/2015/07/Featured-image-10-shrikhand-recipe.jpg - as ./images\\shrikhand\\cbdc0572f9.jpg\n",
      "SUCCESS - saved https://encrypted-tbn0.gstatic.com/images?q=tbn%3AANd9GcQ6mYA88oZKTv8zg6ZucB19eYZQVJB3K06OmUT4oCzNhYYyQSC0&usqp=CAU - as ./images\\shrikhand\\c544c89860.jpg\n",
      "ERROR - Could not save https://sf.ezoiccdn.com/ezoimgfmt/justhindi.in/recipes/wp-content/uploads/2017/04/shrikhand-678x381.jpg?ezimgfmt=rs:372x209/rscb14/ng:webp/ngcb14 - cannot identify image file <_io.BytesIO object at 0x0000022FD94918E8>\n",
      "SUCCESS - saved https://encrypted-tbn0.gstatic.com/images?q=tbn%3AANd9GcTCS1pxzH8P327BLso8MYscGu7581WQC_EzjhibQCp0np1dd-eY&usqp=CAU - as ./images\\shrikhand\\942aaef997.jpg\n",
      "SUCCESS - saved https://encrypted-tbn0.gstatic.com/images?q=tbn%3AANd9GcQkrvoWHMBdYH58WNaX5bGhC3PS0OOZ0hwOA7m_TfkJUqimJx5F&usqp=CAU - as ./images\\shrikhand\\60b6f628c0.jpg\n",
      "SUCCESS - saved https://encrypted-tbn0.gstatic.com/images?q=tbn%3AANd9GcSHLaSq9NEMWGLeP_fKg7rA5Z9ml0Kn8EoDpI99XgIeLzVty3e3&usqp=CAU - as ./images\\shrikhand\\8f9d607c00.jpg\n",
      "SUCCESS - saved https://1.bp.blogspot.com/-vJ0ZA-EpTiE/XZtn-mp8IlI/AAAAAAAAPug/NLfRDON6PiIxlhpJwVnUVJGkFTmzi0qygCLcBGAsYHQ/s640/Chocolate%2BShrikhand%2B%25282%2529.jpg - as ./images\\shrikhand\\9fc1ac0767.jpg\n",
      "SUCCESS - saved https://encrypted-tbn0.gstatic.com/images?q=tbn%3AANd9GcS7CH9VWOy7WhA9d3u9mv6Nd1D8atJN8t2GZjTMbESTnv18ZYRv&usqp=CAU - as ./images\\shrikhand\\ef9ec4922e.jpg\n",
      "SUCCESS - saved https://encrypted-tbn0.gstatic.com/images?q=tbn%3AANd9GcRdziPs-YsFFmuZbQbnxMZWz6ms-Luqc1FK22djCk0ynNzuagjg&usqp=CAU - as ./images\\shrikhand\\76c38cc164.jpg\n",
      "SUCCESS - saved https://cdn1.foodviva.com/static-content/food-images/desserts-sweets-recipes/shrikhand-recipe/shrikhand-recipe.jpg - as ./images\\shrikhand\\158531cb70.jpg\n",
      "SUCCESS - saved https://web.cbnt.io/images/article/5cecd39b495009018.png - as ./images\\shrikhand\\e30c93885f.jpg\n",
      "SUCCESS - saved https://encrypted-tbn0.gstatic.com/images?q=tbn%3AANd9GcRz0DdRSo6w3InH3YoekOpdkw_0eTJxrPoJhqCsEN8ELj8IaMsY&usqp=CAU - as ./images\\shrikhand\\6cc1bf6cc4.jpg\n",
      "SUCCESS - saved https://navbharattimes.indiatimes.com/hindi-recipes/wp-content/uploads/sites/2/2019/04/shrikhand-655x477.jpg - as ./images\\shrikhand\\337e949d0e.jpg\n",
      "SUCCESS - saved https://encrypted-tbn0.gstatic.com/images?q=tbn%3AANd9GcSHOJRhYuN8EnGCij-jPj4cYA4uwgt_fNsHwu7kIvWO8-hPQgNU&usqp=CAU - as ./images\\shrikhand\\8b0daef870.jpg\n",
      "SUCCESS - saved https://encrypted-tbn0.gstatic.com/images?q=tbn%3AANd9GcT6B67OjQqYrtK54X-HciX1egYwrxNSLhbGiF4qtKN2ePKUqog1&usqp=CAU - as ./images\\shrikhand\\de2bceb49a.jpg\n",
      "SUCCESS - saved https://encrypted-tbn0.gstatic.com/images?q=tbn%3AANd9GcSC-6Y6VKghGQ3XPqH3ZbBwCf3IghfrpTd7IutAw3ZjTSqmstcA&usqp=CAU - as ./images\\shrikhand\\4f065e35ad.jpg\n",
      "SUCCESS - saved https://encrypted-tbn0.gstatic.com/images?q=tbn%3AANd9GcScYlA2xJWC5dt3M6tD_MFicnp9DRloQm1Zl-F7U-b0XuAh418U&usqp=CAU - as ./images\\shrikhand\\bb41013c50.jpg\n",
      "SUCCESS - saved https://encrypted-tbn0.gstatic.com/images?q=tbn%3AANd9GcQX1L1zWGxc9avHcQwclFZPHGLuxmWInpOm6UbLQZF7xA6NVHmq&usqp=CAU - as ./images\\shrikhand\\6ab6098a0a.jpg\n",
      "SUCCESS - saved https://2.bp.blogspot.com/-s9exGxmgz78/Vrow_ExtVfI/AAAAAAAAEtk/ad_iNYy8Gnw/s1600/DSC_5891.jpg - as ./images\\shrikhand\\51fdfc13e0.jpg\n",
      "SUCCESS - saved https://i.ytimg.com/vi/XHJa4zbfKVU/maxresdefault.jpg - as ./images\\shrikhand\\d9789c7e97.jpg\n",
      "SUCCESS - saved https://m.tarladalal.com/members/9306/big/big_shrikhand_(_gujarati_recipe)-9841.jpg - as ./images\\shrikhand\\d00399cad8.jpg\n",
      "SUCCESS - saved https://i0.wp.com/kalimirchbysmita.com/wp-content/uploads/2016/04/Kesar-ShriKhand-03.jpg?resize=550%2C550 - as ./images\\shrikhand\\07798af117.jpg\n",
      "SUCCESS - saved https://i.pinimg.com/736x/d0/6f/75/d06f75d58606e45963eb93f2e7d3b9b6.jpg - as ./images\\shrikhand\\0cef6de83b.jpg\n",
      "SUCCESS - saved https://encrypted-tbn0.gstatic.com/images?q=tbn%3AANd9GcRQVIa0R40SjELStd1kjMHYXxmLbNI7NMtMnmnp5ziKEP8-Y4lv&usqp=CAU - as ./images\\shrikhand\\0df04a8627.jpg\n",
      "SUCCESS - saved https://encrypted-tbn0.gstatic.com/images?q=tbn%3AANd9GcQwoeeVqt0EZD0a8Up6fugb2TzR2cgJ4PgwKHhYzP2FJuUuCxXd&usqp=CAU - as ./images\\shrikhand\\b404e98485.jpg\n",
      "SUCCESS - saved https://encrypted-tbn0.gstatic.com/images?q=tbn%3AANd9GcRW39J3SjMXX3Tvptp6X2BCy5ORCWhMlg3vpVDf0e3CfnSE33hS&usqp=CAU - as ./images\\shrikhand\\954e02d903.jpg\n",
      "SUCCESS - saved https://encrypted-tbn0.gstatic.com/images?q=tbn%3AANd9GcThxQOCKGinu7TnXOKKAfLXy2d5HCxOEUW5DdXlBk2QriIRct1T&usqp=CAU - as ./images\\shrikhand\\f205e23fca.jpg\n"
     ]
    },
    {
     "name": "stdout",
     "output_type": "stream",
     "text": [
      "SUCCESS - saved https://encrypted-tbn0.gstatic.com/images?q=tbn%3AANd9GcT8wuOCnBbHGuMGQPnkS58qO0LzKqQEKtCN2AsKhnEZrzR3G-s3&usqp=CAU - as ./images\\shrikhand\\c27b59d86f.jpg\n",
      "SUCCESS - saved https://encrypted-tbn0.gstatic.com/images?q=tbn%3AANd9GcTpQidqW85IyWRr23chbiJBX_fK4GupF1cxbSlBJNx4ibF2onKZ&usqp=CAU - as ./images\\shrikhand\\0263252462.jpg\n",
      "SUCCESS - saved https://www.whiskaffair.com/wp-content/uploads/2014/05/Mango-Shrikhand-4.jpg - as ./images\\shrikhand\\7c8f8ebeac.jpg\n",
      "SUCCESS - saved https://i2.wp.com/www.vegrecipesofindia.com/wp-content/uploads/2015/04/kesar-elaichi-shrikhand.jpg - as ./images\\shrikhand\\1a2959732e.jpg\n",
      "SUCCESS - saved https://encrypted-tbn0.gstatic.com/images?q=tbn%3AANd9GcQiCvI8SD2Eu_CiUTu5_aYbWIu6AXPCcr3akgdCq68QKKvtenFe&usqp=CAU - as ./images\\shrikhand\\e7972d9f0c.jpg\n",
      "SUCCESS - saved https://upload.wikimedia.org/wikipedia/commons/thumb/5/5c/Shrikhand_london_kastoori.jpg/1200px-Shrikhand_london_kastoori.jpg - as ./images\\shrikhand\\fc68a29e67.jpg\n",
      "SUCCESS - saved https://img-global.cpcdn.com/recipes/c33ce8f3f36cc768/751x532cq70/%E0%A4%B6%E0%A5%8D%E0%A4%B0%E0%A5%80%E0%A4%96%E0%A4%82%E0%A4%A1-shrikhand-recipe-in-hindi-%E0%A4%B0%E0%A5%87%E0%A4%B8%E0%A4%BF%E0%A4%AA%E0%A5%80-%E0%A4%AE%E0%A5%81%E0%A4%96%E0%A5%8D%E0%A4%AF-%E0%A4%A4%E0%A4%B8%E0%A5%8D%E0%A4%B5%E0%A5%80%E0%A4%B0.jpg - as ./images\\shrikhand\\e93524e19a.jpg\n",
      "SUCCESS - saved https://i0.wp.com/bhavnaskitchen.com/wp-content/uploads/2017/06/Shrikhand31.jpg?resize=810%2C540&ssl=1 - as ./images\\shrikhand\\00cf9f1f93.jpg\n",
      "SUCCESS - saved https://encrypted-tbn0.gstatic.com/images?q=tbn%3AANd9GcR_1cKl4PWhc9QXmGZQBOdVRXtGg0kDCdGvQNbijcLZ2AEmcvIN&usqp=CAU - as ./images\\shrikhand\\a9598b0318.jpg\n",
      "SUCCESS - saved https://encrypted-tbn0.gstatic.com/images?q=tbn%3AANd9GcTiSCITifz_jIUUgzruSfgdBen1kmHOYVU3mI9cjAoh8Mo6l1YU&usqp=CAU - as ./images\\shrikhand\\241d942600.jpg\n",
      "SUCCESS - saved https://encrypted-tbn0.gstatic.com/images?q=tbn%3AANd9GcSCUREvJ-ZR4OMBRMTnYuALfNYCcAq2h8EwqMrDWuFfeeOCTMWZ&usqp=CAU - as ./images\\shrikhand\\58a3c59b18.jpg\n",
      "SUCCESS - saved https://encrypted-tbn0.gstatic.com/images?q=tbn%3AANd9GcRTpLL1KXKsgdkaKgUvLZzxUjsONpYTGOC3U3zcs0FJFNpqW3rN&usqp=CAU - as ./images\\shrikhand\\8d5ec09647.jpg\n",
      "SUCCESS - saved https://encrypted-tbn0.gstatic.com/images?q=tbn%3AANd9GcTpA34XVluVH4RCOO0mpNlzJVW1thMxOJ0fnihAYiH8d6yCceY3&usqp=CAU - as ./images\\shrikhand\\ce3c9d78d9.jpg\n",
      "SUCCESS - saved https://encrypted-tbn0.gstatic.com/images?q=tbn%3AANd9GcS250jAiJfNQ9B3Ma80PHL8hQcD1NvdAKIJPfr1Z23PPQahR5YH&usqp=CAU - as ./images\\shrikhand\\a8f54efd3f.jpg\n",
      "SUCCESS - saved https://www.indianhealthyrecipes.com/wp-content/uploads/2019/10/shrikhand.jpg - as ./images\\shrikhand\\5ed1280e70.jpg\n",
      "SUCCESS - saved https://c.ndtvimg.com/2020-02/mpuns2eg_shrikhand_625x300_27_February_20.jpg - as ./images\\shrikhand\\6cf31e564f.jpg\n",
      "SUCCESS - saved https://encrypted-tbn0.gstatic.com/images?q=tbn%3AANd9GcR9PNcC1UcVwzudhIdqx_1aa2cPZzo8yMUqYtao_XrskeND4-yJ&usqp=CAU - as ./images\\shrikhand\\b3d5bda8f5.jpg\n",
      "SUCCESS - saved https://encrypted-tbn0.gstatic.com/images?q=tbn%3AANd9GcRWuoom19l-8SxhiLGOYx08hYolbJG7iOoqvkJz9DK6F1Q5lko1&usqp=CAU - as ./images\\shrikhand\\59a1322247.jpg\n",
      "SUCCESS - saved https://encrypted-tbn0.gstatic.com/images?q=tbn%3AANd9GcQyPYUMXmSXwBtNsvOo9zQGtJ06dquZ_Q-Sa8hvTVcrtG6ITYjd&usqp=CAU - as ./images\\shrikhand\\dbef913779.jpg\n",
      "SUCCESS - saved https://encrypted-tbn0.gstatic.com/images?q=tbn%3AANd9GcQ5FE3a-SnMibH6RlJ_9KuiqNmQEsFvIyCEMuyr6QeFxpSZuO1B&usqp=CAU - as ./images\\shrikhand\\f5827d0058.jpg\n",
      "SUCCESS - saved https://craftlog.com/m/i/2079127=s1280=h960 - as ./images\\shrikhand\\7f352423ee.jpg\n",
      "SUCCESS - saved https://images-na.ssl-images-amazon.com/images/I/71StUKXMC7L._SL1500_.jpg - as ./images\\shrikhand\\7da9a26fdb.jpg\n",
      "SUCCESS - saved https://i2.wp.com/flavouroma.com/wp-content/uploads/2017/09/shrikhand-recipeHP.jpg?fit=840%2C560&ssl=1 - as ./images\\shrikhand\\576bf2f995.jpg\n",
      "SUCCESS - saved https://encrypted-tbn0.gstatic.com/images?q=tbn%3AANd9GcSZOXMLObAD4cyN1LGtiWY0MRs6fXvCIh46tK981IYgrZQKXdro&usqp=CAU - as ./images\\shrikhand\\debeec4d14.jpg\n",
      "SUCCESS - saved https://simmertoslimmer.com/wp-content/uploads/2013/07/Elaichi-Shrikhand.jpg - as ./images\\shrikhand\\5c83daa2dd.jpg\n",
      "SUCCESS - saved https://encrypted-tbn0.gstatic.com/images?q=tbn%3AANd9GcQ-pLy0Uw903FxG4ej_CfTZGrPt7EHVoMqF28CID-o08YRKX_8I&usqp=CAU - as ./images\\shrikhand\\40ae84a098.jpg\n",
      "SUCCESS - saved https://m.tarladalal.com/members/9306/big/big_shrikhand-11717.jpg - as ./images\\shrikhand\\0a1759baa7.jpg\n",
      "SUCCESS - saved https://encrypted-tbn0.gstatic.com/images?q=tbn%3AANd9GcSC7bkukqq9w2THLge5LvaKy4fPfwKkT5aVDzITHtyVLNG6VwaF&usqp=CAU - as ./images\\shrikhand\\025857944f.jpg\n"
     ]
    }
   ],
   "source": [
    "import io\n",
    "import os\n",
    "import time\n",
    "import requests\n",
    "#from io import image\n",
    "from PIL import Image \n",
    "import hashlib\n",
    "search_term='shrikhand'\n",
    "search_and_download(\n",
    "    search_term=search_term,\n",
    "    driver_path=DRIVER_PATH\n",
    ")"
   ]
  },
  {
   "cell_type": "code",
   "execution_count": 8,
   "metadata": {},
   "outputs": [],
   "source": []
  },
  {
   "cell_type": "code",
   "execution_count": null,
   "metadata": {},
   "outputs": [],
   "source": []
  },
  {
   "cell_type": "code",
   "execution_count": 21,
   "metadata": {},
   "outputs": [],
   "source": [
    "d = ['sa', 'sad','asd']\n",
    "dt ={}\n",
    "for i, val in enumerate(d):\n",
    "    dt[val]=i"
   ]
  },
  {
   "cell_type": "code",
   "execution_count": 22,
   "metadata": {},
   "outputs": [
    {
     "data": {
      "text/plain": [
       "{'sa': 0, 'sad': 1, 'asd': 2}"
      ]
     },
     "execution_count": 22,
     "metadata": {},
     "output_type": "execute_result"
    }
   ],
   "source": [
    "dt"
   ]
  }
 ],
 "metadata": {
  "kernelspec": {
   "display_name": "Python 3",
   "language": "python",
   "name": "python3"
  },
  "language_info": {
   "codemirror_mode": {
    "name": "ipython",
    "version": 3
   },
   "file_extension": ".py",
   "mimetype": "text/x-python",
   "name": "python",
   "nbconvert_exporter": "python",
   "pygments_lexer": "ipython3",
   "version": "3.7.4"
  }
 },
 "nbformat": 4,
 "nbformat_minor": 2
}
